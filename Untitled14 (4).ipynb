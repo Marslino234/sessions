{
 "cells": [
  {
   "cell_type": "code",
   "execution_count": 14,
   "id": "fafb8764-6356-4d05-9562-6344659dba43",
   "metadata": {},
   "outputs": [
    {
     "name": "stdout",
     "output_type": "stream",
     "text": [
      " it is a hot day- stay hydrated \n"
     ]
    }
   ],
   "source": [
    "temp= 35\n",
    "if temp >= 30:\n",
    "    print (\" it is a hot day- stay hydrated \")\n",
    "elif temp >= 20 and temp <= 29:\n",
    "    print (\"it is a warm day- enjoy the weather\")\n",
    "elif temp >= 10 and  temp <= 19:\n",
    "    print (\"it is a cool day- wear a jacket \")\n",
    "else:\n",
    "    print (\"it is a cold day- stay warm\")"
   ]
  },
  {
   "cell_type": "code",
   "execution_count": 1,
   "id": "d6334569-df61-41ec-9dea-983557906f02",
   "metadata": {},
   "outputs": [
    {
     "name": "stdout",
     "output_type": "stream",
     "text": [
      "3\n",
      "6\n",
      "9\n",
      "12\n",
      "15\n",
      "18\n"
     ]
    }
   ],
   "source": [
    "# list of numbers \n",
    "numbers = (range (1,21)) \n",
    "# for loob cods \n",
    "for num in numbers:\n",
    "# the numbers can divisible by 3 \n",
    "    if num % 3 == 0:\n",
    "        print (num)"
   ]
  },
  {
   "cell_type": "code",
   "execution_count": null,
   "id": "fd4388dc-2e34-48db-87d0-9bb8d1c0be29",
   "metadata": {
    "jupyter": {
     "source_hidden": true
    }
   },
   "outputs": [],
   "source": []
  }
 ],
 "metadata": {
  "kernelspec": {
   "display_name": "Python [conda env:base] *",
   "language": "python",
   "name": "conda-base-py"
  },
  "language_info": {
   "codemirror_mode": {
    "name": "ipython",
    "version": 3
   },
   "file_extension": ".py",
   "mimetype": "text/x-python",
   "name": "python",
   "nbconvert_exporter": "python",
   "pygments_lexer": "ipython3",
   "version": "3.13.5"
  }
 },
 "nbformat": 4,
 "nbformat_minor": 5
}
